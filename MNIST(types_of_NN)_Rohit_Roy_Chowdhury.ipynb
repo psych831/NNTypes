{
  "nbformat": 4,
  "nbformat_minor": 0,
  "metadata": {
    "kernelspec": {
      "display_name": "Python 3",
      "language": "python",
      "name": "python3"
    },
    "language_info": {
      "codemirror_mode": {
        "name": "ipython",
        "version": 3
      },
      "file_extension": ".py",
      "mimetype": "text/x-python",
      "name": "python",
      "nbconvert_exporter": "python",
      "pygments_lexer": "ipython3",
      "version": "3.8.3"
    },
    "colab": {
      "name": "MNIST(types of NN)_Rohit_Roy_Chowdhury.ipynb",
      "provenance": []
    }
  },
  "cells": [
    {
      "cell_type": "code",
      "metadata": {
        "id": "ykORlzQmrHbE"
      },
      "source": [
        "import tensorflow as tf\n",
        "from tensorflow import keras\n",
        "import numpy as np\n",
        "import matplotlib.pyplot as plt\n",
        "import seaborn as sns\n",
        "from tensorflow.keras import regularizers\n",
        "import random\n",
        "%matplotlib inline"
      ],
      "execution_count": null,
      "outputs": []
    },
    {
      "cell_type": "code",
      "metadata": {
        "colab": {
          "base_uri": "https://localhost:8080/"
        },
        "id": "4x7AN7Z6rHbH",
        "outputId": "e799aa02-9b14-480e-b8c7-9ad0df427ac7"
      },
      "source": [
        "data = tf.keras.datasets.mnist.load_data(path=\"mnist.npz\")"
      ],
      "execution_count": null,
      "outputs": [
        {
          "output_type": "stream",
          "text": [
            "Downloading data from https://storage.googleapis.com/tensorflow/tf-keras-datasets/mnist.npz\n",
            "11493376/11490434 [==============================] - 0s 0us/step\n"
          ],
          "name": "stdout"
        }
      ]
    },
    {
      "cell_type": "code",
      "metadata": {
        "colab": {
          "base_uri": "https://localhost:8080/",
          "height": 299
        },
        "id": "agcDPhKSrHbI",
        "outputId": "d36d275e-b216-4428-aa32-ee34cd22481d"
      },
      "source": [
        "img = data[0][0][1]\n",
        "pixels = np.asarray(img)\n",
        "print(pixels.shape)\n",
        "plt.imshow(pixels, cmap='gray')"
      ],
      "execution_count": null,
      "outputs": [
        {
          "output_type": "stream",
          "text": [
            "(28, 28)\n"
          ],
          "name": "stdout"
        },
        {
          "output_type": "execute_result",
          "data": {
            "text/plain": [
              "<matplotlib.image.AxesImage at 0x7f1b602f3e90>"
            ]
          },
          "metadata": {
            "tags": []
          },
          "execution_count": 3
        },
        {
          "output_type": "display_data",
          "data": {
            "image/png": "[encoded data removed]",
            "text/plain": [
              "<Figure size 432x288 with 1 Axes>"
            ]
          },
          "metadata": {
            "tags": [],
            "needs_background": "light"
          }
        }
      ]
    },
    {
      "cell_type": "code",
      "metadata": {
        "colab": {
          "base_uri": "https://localhost:8080/"
        },
        "id": "1nG-QJ-CrHbJ",
        "outputId": "80672162-d19f-4f32-b135-37a14de9e733"
      },
      "source": [
        "train_images = data[0][0]/255.0\n",
        "train_labels = data[0][1]\n",
        "test_images = data[1][0]/255.0\n",
        "test_labels = data[1][1]\n",
        "print(type(train_labels))\n",
        "print(type(train_labels[0]))\n",
        "print(test_images.shape)"
      ],
      "execution_count": null,
      "outputs": [
        {
          "output_type": "stream",
          "text": [
            "<class 'numpy.ndarray'>\n",
            "<class 'numpy.uint8'>\n",
            "(10000, 28, 28)\n"
          ],
          "name": "stdout"
        }
      ]
    },
    {
      "cell_type": "code",
      "metadata": {
        "colab": {
          "base_uri": "https://localhost:8080/"
        },
        "id": "TD_OBwY4rHbJ",
        "outputId": "c4709137-a9c2-4fd7-efdd-45c1b2bd0453"
      },
      "source": [
        "train_images = np.expand_dims(train_images, -1)\n",
        "test_images = np.expand_dims(test_images, -1)\n",
        "print(test_images[0].shape)"
      ],
      "execution_count": null,
      "outputs": [
        {
          "output_type": "stream",
          "text": [
            "(28, 28, 1)\n"
          ],
          "name": "stdout"
        }
      ]
    },
    {
      "cell_type": "code",
      "metadata": {
        "id": "zAEEFHGsrHbJ"
      },
      "source": [
        "#training in LeNet-5"
      ],
      "execution_count": null,
      "outputs": []
    },
    {
      "cell_type": "code",
      "metadata": {
        "id": "SOzvfbLsrHbK"
      },
      "source": [
        "model = tf.keras.Sequential([\n",
        "    tf.keras.layers.Conv2D(32, (3,3), activation ='relu', input_shape=(28,28,1), padding='same'),\n",
        "    tf.keras.layers.MaxPooling2D(2,2),\n",
        "    tf.keras.layers.Conv2D(64, (3,3), activation ='relu', input_shape=(28,28,1), padding='same'),\n",
        "    tf.keras.layers.MaxPooling2D(2,2),\n",
        "    tf.keras.layers.Flatten(),\n",
        "    tf.keras.layers.Dense(512, activation = 'relu'),\n",
        "    tf.keras.layers.Dense(256, activation = 'relu'),\n",
        "    tf.keras.layers.Dense(128, activation = 'relu'),\n",
        "    tf.keras.layers.Dense(10, activation='softmax')\n",
        "])\n",
        "model.compile(optimizer= 'adam', loss = tf.keras.losses.SparseCategoricalCrossentropy(from_logits=True), metrics=['accuracy'] )"
      ],
      "execution_count": null,
      "outputs": []
    },
    {
      "cell_type": "code",
      "metadata": {
        "colab": {
          "base_uri": "https://localhost:8080/"
        },
        "id": "BV4H0uT7rHbL",
        "outputId": "5cf7e403-3792-4734-d627-4534d0b2fc54"
      },
      "source": [
        "model.fit(train_images, train_labels, epochs = 50)"
      ],
      "execution_count": null,
      "outputs": [
        {
          "output_type": "stream",
          "text": [
            "Epoch 1/50\n"
          ],
          "name": "stdout"
        },
        {
          "output_type": "stream",
          "text": [
            "/usr/local/lib/python3.7/dist-packages/tensorflow/python/keras/backend.py:4930: UserWarning: \"`sparse_categorical_crossentropy` received `from_logits=True`, but the `output` argument was produced by a sigmoid or softmax activation and thus does not represent logits. Was this intended?\"\n",
            "  '\"`sparse_categorical_crossentropy` received `from_logits=True`, but '\n"
          ],
          "name": "stderr"
        },
        {
          "output_type": "stream",
          "text": [
            "1875/1875 [==============================] - 90s 48ms/step - loss: 0.1243 - accuracy: 0.9605\n",
            "Epoch 2/50\n",
            "1875/1875 [==============================] - 89s 47ms/step - loss: 0.0460 - accuracy: 0.9859\n",
            "Epoch 3/50\n",
            "1875/1875 [==============================] - 89s 48ms/step - loss: 0.0324 - accuracy: 0.9906\n",
            "Epoch 4/50\n",
            "1875/1875 [==============================] - 89s 47ms/step - loss: 0.0232 - accuracy: 0.9936\n",
            "Epoch 5/50\n",
            "1875/1875 [==============================] - 89s 47ms/step - loss: 0.0205 - accuracy: 0.9943\n",
            "Epoch 6/50\n",
            "1875/1875 [==============================] - 88s 47ms/step - loss: 0.0154 - accuracy: 0.9953\n",
            "Epoch 7/50\n",
            "1875/1875 [==============================] - 88s 47ms/step - loss: 0.0130 - accuracy: 0.9960\n",
            "Epoch 8/50\n",
            "1875/1875 [==============================] - 88s 47ms/step - loss: 0.0116 - accuracy: 0.9969\n",
            "Epoch 9/50\n",
            "1875/1875 [==============================] - 89s 47ms/step - loss: 0.0097 - accuracy: 0.9972\n",
            "Epoch 10/50\n",
            "1875/1875 [==============================] - 88s 47ms/step - loss: 0.0117 - accuracy: 0.9967\n",
            "Epoch 11/50\n",
            "1875/1875 [==============================] - 88s 47ms/step - loss: 0.0068 - accuracy: 0.9982\n",
            "Epoch 12/50\n",
            "1875/1875 [==============================] - 88s 47ms/step - loss: 0.0097 - accuracy: 0.9976\n",
            "Epoch 13/50\n",
            "1875/1875 [==============================] - 88s 47ms/step - loss: 0.0062 - accuracy: 0.9984\n",
            "Epoch 14/50\n",
            "1875/1875 [==============================] - 88s 47ms/step - loss: 0.0079 - accuracy: 0.9978\n",
            "Epoch 15/50\n",
            "1875/1875 [==============================] - 89s 47ms/step - loss: 0.0072 - accuracy: 0.9983\n",
            "Epoch 16/50\n",
            "1875/1875 [==============================] - 89s 48ms/step - loss: 0.0075 - accuracy: 0.9982\n",
            "Epoch 17/50\n",
            "1875/1875 [==============================] - 90s 48ms/step - loss: 0.0066 - accuracy: 0.9985\n",
            "Epoch 18/50\n",
            "1875/1875 [==============================] - 90s 48ms/step - loss: 0.0073 - accuracy: 0.9984\n",
            "Epoch 19/50\n",
            "1875/1875 [==============================] - 90s 48ms/step - loss: 0.0068 - accuracy: 0.9985\n",
            "Epoch 20/50\n",
            "1875/1875 [==============================] - 89s 48ms/step - loss: 0.0045 - accuracy: 0.9991\n",
            "Epoch 21/50\n",
            "1875/1875 [==============================] - 90s 48ms/step - loss: 0.0044 - accuracy: 0.9989\n",
            "Epoch 22/50\n",
            "1875/1875 [==============================] - 90s 48ms/step - loss: 0.0046 - accuracy: 0.9991\n",
            "Epoch 23/50\n",
            "1875/1875 [==============================] - 90s 48ms/step - loss: 0.0049 - accuracy: 0.9989\n",
            "Epoch 24/50\n",
            "1875/1875 [==============================] - 90s 48ms/step - loss: 0.0059 - accuracy: 0.9988\n",
            "Epoch 25/50\n",
            "1875/1875 [==============================] - 92s 49ms/step - loss: 0.0060 - accuracy: 0.9988\n",
            "Epoch 26/50\n",
            "1875/1875 [==============================] - 91s 49ms/step - loss: 0.0066 - accuracy: 0.9987\n",
            "Epoch 27/50\n",
            "1875/1875 [==============================] - 91s 48ms/step - loss: 0.0059 - accuracy: 0.9987\n",
            "Epoch 28/50\n",
            "1875/1875 [==============================] - 92s 49ms/step - loss: 0.0035 - accuracy: 0.9992\n",
            "Epoch 29/50\n",
            "1875/1875 [==============================] - 92s 49ms/step - loss: 0.0064 - accuracy: 0.9987\n",
            "Epoch 30/50\n",
            "1875/1875 [==============================] - 91s 49ms/step - loss: 0.0037 - accuracy: 0.9992\n",
            "Epoch 31/50\n",
            "1875/1875 [==============================] - 91s 48ms/step - loss: 0.0046 - accuracy: 0.9990\n",
            "Epoch 32/50\n",
            "1875/1875 [==============================] - 90s 48ms/step - loss: 0.0047 - accuracy: 0.9990\n",
            "Epoch 33/50\n",
            "1875/1875 [==============================] - 90s 48ms/step - loss: 0.0071 - accuracy: 0.9987\n",
            "Epoch 34/50\n",
            "1875/1875 [==============================] - 90s 48ms/step - loss: 0.0049 - accuracy: 0.9991\n",
            "Epoch 35/50\n",
            "1875/1875 [==============================] - 90s 48ms/step - loss: 0.0038 - accuracy: 0.9993\n",
            "Epoch 36/50\n",
            "1875/1875 [==============================] - 90s 48ms/step - loss: 0.0047 - accuracy: 0.9990\n",
            "Epoch 37/50\n",
            "1875/1875 [==============================] - 90s 48ms/step - loss: 0.0080 - accuracy: 0.9987\n",
            "Epoch 38/50\n",
            "1875/1875 [==============================] - 90s 48ms/step - loss: 0.0016 - accuracy: 0.9998\n",
            "Epoch 39/50\n",
            "1875/1875 [==============================] - 90s 48ms/step - loss: 0.0059 - accuracy: 0.9991\n",
            "Epoch 40/50\n",
            "1875/1875 [==============================] - 90s 48ms/step - loss: 0.0051 - accuracy: 0.9993\n",
            "Epoch 41/50\n",
            "1875/1875 [==============================] - 90s 48ms/step - loss: 0.0062 - accuracy: 0.9988\n",
            "Epoch 42/50\n",
            "1875/1875 [==============================] - 90s 48ms/step - loss: 8.8993e-04 - accuracy: 0.9998\n",
            "Epoch 43/50\n",
            "1875/1875 [==============================] - 90s 48ms/step - loss: 0.0079 - accuracy: 0.9991\n",
            "Epoch 44/50\n",
            "1875/1875 [==============================] - 90s 48ms/step - loss: 0.0030 - accuracy: 0.9994\n",
            "Epoch 45/50\n",
            "1875/1875 [==============================] - 91s 49ms/step - loss: 0.0069 - accuracy: 0.9990\n",
            "Epoch 46/50\n",
            "1875/1875 [==============================] - 91s 49ms/step - loss: 0.0041 - accuracy: 0.9994\n",
            "Epoch 47/50\n",
            "1875/1875 [==============================] - 90s 48ms/step - loss: 0.0035 - accuracy: 0.9994\n",
            "Epoch 48/50\n",
            "1875/1875 [==============================] - 90s 48ms/step - loss: 0.0052 - accuracy: 0.9992\n",
            "Epoch 49/50\n",
            "1875/1875 [==============================] - 90s 48ms/step - loss: 0.0036 - accuracy: 0.9995\n",
            "Epoch 50/50\n",
            "1875/1875 [==============================] - 90s 48ms/step - loss: 0.0076 - accuracy: 0.9990\n"
          ],
          "name": "stdout"
        },
        {
          "output_type": "execute_result",
          "data": {
            "text/plain": [
              "<tensorflow.python.keras.callbacks.History at 0x7f1b60f52ad0>"
            ]
          },
          "metadata": {
            "tags": []
          },
          "execution_count": 7
        }
      ]
    },
    {
      "cell_type": "code",
      "metadata": {
        "colab": {
          "base_uri": "https://localhost:8080/"
        },
        "id": "bXlNJw-7rHbN",
        "outputId": "65534c82-a356-493b-a846-cdd82b6e7350"
      },
      "source": [
        "test_loss, test_acc = model.evaluate( test_images, test_labels, verbose=0 )"
      ],
      "execution_count": null,
      "outputs": [
        {
          "output_type": "stream",
          "text": [
            "/usr/local/lib/python3.7/dist-packages/tensorflow/python/keras/backend.py:4930: UserWarning: \"`sparse_categorical_crossentropy` received `from_logits=True`, but the `output` argument was produced by a sigmoid or softmax activation and thus does not represent logits. Was this intended?\"\n",
            "  '\"`sparse_categorical_crossentropy` received `from_logits=True`, but '\n"
          ],
          "name": "stderr"
        }
      ]
    },
    {
      "cell_type": "code",
      "metadata": {
        "colab": {
          "base_uri": "https://localhost:8080/"
        },
        "id": "jNLXr9lerHbN",
        "outputId": "80bde48e-b96e-4702-f8bf-cea3dd3da0dd"
      },
      "source": [
        "print(\"Accuracy %2f \"%test_acc)"
      ],
      "execution_count": null,
      "outputs": [
        {
          "output_type": "stream",
          "text": [
            "Accuracy 0.990100 \n"
          ],
          "name": "stdout"
        }
      ]
    },
    {
      "cell_type": "code",
      "metadata": {
        "colab": {
          "base_uri": "https://localhost:8080/"
        },
        "id": "-sTwzv74rHbO",
        "outputId": "25fa5b7b-143d-4a6a-ccd7-793018f7c8ce"
      },
      "source": [
        "#training in AlexNet\n",
        "train_images = data[0][0]/255.0\n",
        "train_labels = data[0][1]\n",
        "test_images = data[1][0]/255.0\n",
        "test_labels = data[1][1]\n",
        "x_train = tf.expand_dims(train_images, axis=3, name=None)\n",
        "x_test = tf.expand_dims(test_images, axis=3, name=None)\n",
        "x_train = tf.repeat(x_train, 3, axis=3)\n",
        "x_test = tf.repeat(x_test, 3, axis=3)\n",
        "print(x_train[0].shape)"
      ],
      "execution_count": null,
      "outputs": [
        {
          "output_type": "stream",
          "text": [
            "(28, 28, 3)\n"
          ],
          "name": "stdout"
        }
      ]
    },
    {
      "cell_type": "code",
      "metadata": {
        "id": "Yo6_wc1HrHbP"
      },
      "source": [
        "\n",
        "model2 = tf.keras.Sequential([\n",
        "    tf.keras.layers.experimental.preprocessing.Resizing(224, 224, interpolation=\"bilinear\", input_shape=x_train.shape[1:]),\n",
        "    tf.keras.layers.Conv2D(96, 11, strides=4, padding='same'),\n",
        "    tf.keras.layers.Lambda(tf.nn.local_response_normalization),\n",
        "    tf.keras.layers.Activation('relu'),\n",
        "    tf.keras.layers.MaxPooling2D(3, strides=2),\n",
        "    tf.keras.layers.Conv2D(256, 5, strides=4, padding='same'),\n",
        "    tf.keras.layers.Lambda(tf.nn.local_response_normalization),\n",
        "    tf.keras.layers.Activation('relu'),\n",
        "    tf.keras.layers.MaxPooling2D(3, strides=2),\n",
        "    tf.keras.layers.Conv2D(384, 3, strides=4, padding='same'),\n",
        "    tf.keras.layers.Activation('relu'),\n",
        "    tf.keras.layers.Conv2D(256, 3, strides=4, padding='same'),\n",
        "    tf.keras.layers.Activation('relu'),\n",
        "    tf.keras.layers.Flatten(),\n",
        "    tf.keras.layers.Dense(4096, activation='relu'),\n",
        "    tf.keras.layers.Dropout(0.5),\n",
        "    tf.keras.layers.Dense(4096, activation='relu'),\n",
        "    tf.keras.layers.Dropout(0.5),\n",
        "    tf.keras.layers.Dense(10, activation='softmax')\n",
        "])\n",
        "model2.compile(optimizer= 'adam', loss = tf.keras.losses.SparseCategoricalCrossentropy(from_logits=True), metrics=['accuracy'] )"
      ],
      "execution_count": null,
      "outputs": []
    },
    {
      "cell_type": "code",
      "metadata": {
        "colab": {
          "base_uri": "https://localhost:8080/"
        },
        "id": "QbCZGX7_-cYu",
        "outputId": "1aee89ba-8cf0-40a7-cc3e-30478bbdda50"
      },
      "source": [
        "model2.fit(x_train, train_labels, epochs = 50)"
      ],
      "execution_count": null,
      "outputs": [
        {
          "output_type": "stream",
          "text": [
            "Epoch 1/50\n"
          ],
          "name": "stdout"
        },
        {
          "output_type": "stream",
          "text": [
            "/usr/local/lib/python3.7/dist-packages/tensorflow/python/keras/backend.py:4930: UserWarning: \"`sparse_categorical_crossentropy` received `from_logits=True`, but the `output` argument was produced by a sigmoid or softmax activation and thus does not represent logits. Was this intended?\"\n",
            "  '\"`sparse_categorical_crossentropy` received `from_logits=True`, but '\n"
          ],
          "name": "stderr"
        },
        {
          "output_type": "stream",
          "text": [
            "1875/1875 [==============================] - 1715s 914ms/step - loss: 0.3006 - accuracy: 0.8995\n",
            "Epoch 2/50\n",
            "1875/1875 [==============================] - 1722s 918ms/step - loss: 0.0895 - accuracy: 0.9766\n",
            "Epoch 3/50\n",
            "1875/1875 [==============================] - 1731s 923ms/step - loss: 0.0733 - accuracy: 0.9811\n",
            "Epoch 4/50\n",
            "1875/1875 [==============================] - 1739s 928ms/step - loss: 0.0561 - accuracy: 0.9858\n",
            "Epoch 5/50\n",
            "1875/1875 [==============================] - 1738s 927ms/step - loss: 0.0477 - accuracy: 0.9877\n",
            "Epoch 6/50\n",
            "1875/1875 [==============================] - 1748s 932ms/step - loss: 0.0419 - accuracy: 0.9899\n",
            "Epoch 7/50\n",
            "1875/1875 [==============================] - 1740s 928ms/step - loss: 0.0387 - accuracy: 0.9905\n",
            "Epoch 8/50\n",
            "1875/1875 [==============================] - 1745s 931ms/step - loss: 0.0332 - accuracy: 0.9916\n",
            "Epoch 9/50\n",
            "1875/1875 [==============================] - 1732s 924ms/step - loss: 0.0335 - accuracy: 0.9916\n",
            "Epoch 10/50\n",
            "1875/1875 [==============================] - 1738s 927ms/step - loss: 0.0288 - accuracy: 0.9930\n",
            "Epoch 11/50\n",
            "1875/1875 [==============================] - 1724s 920ms/step - loss: 0.0285 - accuracy: 0.9936\n",
            "Epoch 12/50\n",
            "1875/1875 [==============================] - 1722s 918ms/step - loss: 0.0268 - accuracy: 0.9933\n",
            "Epoch 13/50\n",
            "1875/1875 [==============================] - 1725s 920ms/step - loss: 0.0253 - accuracy: 0.9937\n",
            "Epoch 14/50\n",
            "1875/1875 [==============================] - 1719s 917ms/step - loss: 0.0238 - accuracy: 0.9945\n",
            "Epoch 15/50\n",
            "1875/1875 [==============================] - 1718s 916ms/step - loss: 0.0220 - accuracy: 0.9951\n",
            "Epoch 16/50\n",
            "1875/1875 [==============================] - 1716s 915ms/step - loss: 0.0212 - accuracy: 0.9954\n",
            "Epoch 17/50\n",
            "1875/1875 [==============================] - 1704s 909ms/step - loss: 0.0186 - accuracy: 0.9955\n",
            "Epoch 18/50\n",
            "1875/1875 [==============================] - 1694s 903ms/step - loss: 0.0186 - accuracy: 0.9957\n",
            "Epoch 19/50\n",
            "1875/1875 [==============================] - 1695s 904ms/step - loss: 0.0204 - accuracy: 0.9958\n",
            "Epoch 20/50\n",
            "1875/1875 [==============================] - 1704s 909ms/step - loss: 0.0158 - accuracy: 0.9965\n",
            "Epoch 21/50\n",
            "1875/1875 [==============================] - 1701s 907ms/step - loss: 0.0227 - accuracy: 0.9956\n",
            "Epoch 22/50\n",
            "1875/1875 [==============================] - 1704s 909ms/step - loss: 0.0174 - accuracy: 0.9961\n",
            "Epoch 23/50\n",
            " 292/1875 [===>..........................] - ETA: 24:01 - loss: 0.0163 - accuracy: 0.9974"
          ],
          "name": "stdout"
        }
      ]
    },
    {
      "cell_type": "code",
      "metadata": {
        "id": "_PEED_5w-ybA"
      },
      "source": [
        "test_loss, test_acc = model.evaluate( test_images, test_labels, verbose=0 )\n",
        "print(\"Accuracy %2f \"%test_acc)"
      ],
      "execution_count": null,
      "outputs": []
    },
    {
      "cell_type": "code",
      "metadata": {
        "id": "GYA2lKNKy3Q9"
      },
      "source": [
        ""
      ],
      "execution_count": null,
      "outputs": []
    }
  ]
}